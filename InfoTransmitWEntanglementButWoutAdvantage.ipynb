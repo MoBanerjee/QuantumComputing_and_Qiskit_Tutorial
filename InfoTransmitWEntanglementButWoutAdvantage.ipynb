{
 "cells": [
  {
   "cell_type": "code",
   "execution_count": 1,
   "id": "9c5b598f-e7cc-4e69-8604-27f477ce06fe",
   "metadata": {},
   "outputs": [],
   "source": [
    "# Importing standard Qiskit libraries\n",
    "from qiskit import QuantumCircuit, transpile\n",
    "from qiskit.tools.jupyter import *\n",
    "from qiskit.visualization import *\n",
    "from ibm_quantum_widgets import *\n",
    "\n",
    "# qiskit-ibmq-provider has been deprecated.\n",
    "# Please see the Migration Guides in https://ibm.biz/provider_migration_guide for more detail.\n",
    "from qiskit_ibm_runtime import QiskitRuntimeService, Sampler, Estimator, Session, Options\n",
    "\n",
    "# Loading your IBM Quantum account(s)\n",
    "service = QiskitRuntimeService(channel=\"ibm_quantum\")\n",
    "\n",
    "# Invoke a primitive. For more details see https://qiskit.org/documentation/partners/qiskit_ibm_runtime/tutorials.html\n",
    "# result = Sampler(\"ibmq_qasm_simulator\").run(circuits).result()"
   ]
  },
  {
   "cell_type": "code",
   "execution_count": 6,
   "id": "7cef1c25-b1f6-4860-9625-3da0e5691b6e",
   "metadata": {
    "tags": []
   },
   "outputs": [],
   "source": [
    "from qiskit import QuantumCircuit\n",
    "from qiskit.quantum_info import Statevector\n",
    "from qiskit import Aer\n",
    "backend = Aer.get_backend('aer_simulator')"
   ]
  },
  {
   "cell_type": "code",
   "execution_count": 7,
   "id": "ef549d5d-56d5-47d0-a23f-aabdceb811d5",
   "metadata": {
    "tags": []
   },
   "outputs": [
    {
     "data": {
      "text/plain": [
       "'Statevector([0.70710678+0.j, 0.        +0.j, 0.        +0.j,\\n             0.70710678+0.j],\\n            dims=(2, 2))'"
      ]
     },
     "execution_count": 7,
     "metadata": {},
     "output_type": "execute_result"
    }
   ],
   "source": [
    "MESSAGE = '00'\n",
    "\n",
    "qc_alice = QuantumCircuit(2,2)\n",
    "\n",
    "# Alice encodes the message\n",
    "if MESSAGE[-1]=='1':\n",
    "    qc_alice.x(0)\n",
    "if MESSAGE[-2]=='1':\n",
    "    qc_alice.x(1)\n",
    "\n",
    "# then she creates entangled states\n",
    "qc_alice.h(1)\n",
    "qc_alice.cx(1,0)\n",
    "\n",
    "ket = Statevector(qc_alice)\n",
    "ket.draw()"
   ]
  },
  {
   "cell_type": "code",
   "execution_count": 4,
   "id": "e4c5c9e7-742d-47f1-9f38-022968568b66",
   "metadata": {
    "tags": []
   },
   "outputs": [
    {
     "data": {
      "image/png": "[encoded data removed]",
      "text/plain": [
       "<Figure size 454.517x284.278 with 1 Axes>"
      ]
     },
     "execution_count": 4,
     "metadata": {},
     "output_type": "execute_result"
    }
   ],
   "source": [
    "qc_bob = QuantumCircuit(2,2)\n",
    "# Bob disentangles\n",
    "qc_bob.cx(1,0)\n",
    "qc_bob.h(1)\n",
    "# Then measures\n",
    "qc_bob.measure([0,1],[0,1])\n",
    "\n",
    "qc_bob.draw()"
   ]
  },
  {
   "cell_type": "code",
   "execution_count": 5,
   "id": "69721f8d-4bf9-4b50-8514-1820fc15f236",
   "metadata": {
    "tags": []
   },
   "outputs": [
    {
     "data": {
      "text/plain": [
       "{'00': 1024}"
      ]
     },
     "execution_count": 5,
     "metadata": {},
     "output_type": "execute_result"
    }
   ],
   "source": [
    "backend.run(qc_alice.compose(qc_bob)).result().get_counts()"
   ]
  },
  {
   "cell_type": "markdown",
   "id": "b655d535-83b0-46fb-9381-a8527de6c7f5",
   "metadata": {},
   "source": [
    "EXPERIMENT"
   ]
  },
  {
   "cell_type": "code",
   "execution_count": null,
   "id": "7e26fa16-f2f9-406e-8442-61a518cbdc03",
   "metadata": {},
   "outputs": [],
   "source": []
  }
 ],
 "metadata": {
  "kernelspec": {
   "display_name": "Python 3 (ipykernel)",
   "language": "python",
   "name": "python3"
  },
  "language_info": {
   "codemirror_mode": {
    "name": "ipython",
    "version": 3
   },
   "file_extension": ".py",
   "mimetype": "text/x-python",
   "name": "python",
   "nbconvert_exporter": "python",
   "pygments_lexer": "ipython3",
   "version": "3.10.8"
  },
  "widgets": {
   "application/vnd.jupyter.widget-state+json": {
    "state": {
     "160869a932c04fc39016850707525a3a": {
      "model_module": "@jupyter-widgets/controls",
      "model_module_version": "2.0.0",
      "model_name": "HTMLStyleModel",
      "state": {
       "description_width": "",
       "font_size": null,
       "text_color": null
      }
     },
     "1db0f20c2ef94d03aeee4f0dfb62d07d": {
      "model_module": "@jupyter-widgets/base",
      "model_module_version": "2.0.0",
      "model_name": "LayoutModel",
      "state": {
       "grid_template_areas": "\n                                       \". . . . right \"\n                                        ",
       "grid_template_columns": "20% 20% 20% 20% 20%",
       "width": "100%"
      }
     },
     "2204c2c931e6409d91095e997f87fb65": {
      "model_module": "@jupyter-widgets/controls",
      "model_module_version": "2.0.0",
      "model_name": "ButtonModel",
      "state": {
       "button_style": "primary",
       "description": "Clear",
       "layout": "IPY_MODEL_e06cd9424464455780e2e1b31c88d893",
       "style": "IPY_MODEL_f3003be2ad4946a9b6518c9f37ac651e",
       "tooltip": null
      }
     },
     "237cac0a821a40d1a7e2e5001133e721": {
      "model_module": "@jupyter-widgets/base",
      "model_module_version": "2.0.0",
      "model_name": "LayoutModel",
      "state": {
       "margin": "0px 0px 0px 37px",
       "width": "600px"
      }
     },
     "45d24500209c4eb78bc851dd6f3672a8": {
      "model_module": "@jupyter-widgets/controls",
      "model_module_version": "2.0.0",
      "model_name": "HTMLModel",
      "state": {
       "layout": "IPY_MODEL_9ccd90cc92d240f3a57012f696200673",
       "style": "IPY_MODEL_d30c4aeb798640dab1038f7c5c268f25",
       "value": "<h5>Queue</h5>"
      }
     },
     "6241740ee6f9478c8ec9b658750674c4": {
      "model_module": "@jupyter-widgets/controls",
      "model_module_version": "2.0.0",
      "model_name": "HTMLModel",
      "state": {
       "layout": "IPY_MODEL_ffead992e03a4b338f316e03e6176ed4",
       "style": "IPY_MODEL_f517cf43f0554ae8a957c58c8e5fe6b5",
       "value": "<h5>Status</h5>"
      }
     },
     "82f429ed974e413282222bde1da3ae7c": {
      "model_module": "@jupyter-widgets/base",
      "model_module_version": "2.0.0",
      "model_name": "LayoutModel",
      "state": {
       "width": "145px"
      }
     },
     "84bbfcb6e8a44d109e09b844c59a6e1c": {
      "model_module": "@jupyter-widgets/controls",
      "model_module_version": "2.0.0",
      "model_name": "HTMLModel",
      "state": {
       "layout": "IPY_MODEL_97e187ab76b34a608ccebd1bc6a4af5f",
       "style": "IPY_MODEL_160869a932c04fc39016850707525a3a",
       "value": "<p style='font-family: IBM Plex Sans, Arial, Helvetica, sans-serif; font-size: 20px; font-weight: medium;'>Circuit Properties</p>"
      }
     },
     "89e5b7ecf9f74161a9ba9397c5cc549d": {
      "model_module": "@jupyter-widgets/controls",
      "model_module_version": "2.0.0",
      "model_name": "HTMLStyleModel",
      "state": {
       "description_width": "",
       "font_size": null,
       "text_color": null
      }
     },
     "97e187ab76b34a608ccebd1bc6a4af5f": {
      "model_module": "@jupyter-widgets/base",
      "model_module_version": "2.0.0",
      "model_name": "LayoutModel",
      "state": {
       "margin": "0px 0px 10px 0px"
      }
     },
     "98ef364273b746b684151e5f00eab290": {
      "model_module": "@jupyter-widgets/controls",
      "model_module_version": "2.0.0",
      "model_name": "HTMLModel",
      "state": {
       "layout": "IPY_MODEL_82f429ed974e413282222bde1da3ae7c",
       "style": "IPY_MODEL_d39804285d7e4f8ebe0ca195c37c6261",
       "value": "<h5>Backend</h5>"
      }
     },
     "9ccd90cc92d240f3a57012f696200673": {
      "model_module": "@jupyter-widgets/base",
      "model_module_version": "2.0.0",
      "model_name": "LayoutModel",
      "state": {
       "width": "70px"
      }
     },
     "b0db07ee34ab49949027b8b01155c001": {
      "model_module": "@jupyter-widgets/controls",
      "model_module_version": "2.0.0",
      "model_name": "HTMLModel",
      "state": {
       "layout": "IPY_MODEL_b3b2d9ea3a9446faace4dffae83fb4e8",
       "style": "IPY_MODEL_89e5b7ecf9f74161a9ba9397c5cc549d",
       "value": "<h5>Job ID</h5>"
      }
     },
     "b3b2d9ea3a9446faace4dffae83fb4e8": {
      "model_module": "@jupyter-widgets/base",
      "model_module_version": "2.0.0",
      "model_name": "LayoutModel",
      "state": {
       "width": "190px"
      }
     },
     "c0e66cc1ab944a6aac774b32b304bd70": {
      "model_module": "@jupyter-widgets/controls",
      "model_module_version": "2.0.0",
      "model_name": "HTMLStyleModel",
      "state": {
       "description_width": "",
       "font_size": null,
       "text_color": null
      }
     },
     "c6a0db9956414aa5aa4efaa50b077b77": {
      "model_module": "@jupyter-widgets/base",
      "model_module_version": "2.0.0",
      "model_name": "LayoutModel",
      "state": {}
     },
     "d17b3497cf2a4010970d01da069f27d4": {
      "model_module": "@jupyter-widgets/controls",
      "model_module_version": "2.0.0",
      "model_name": "HBoxModel",
      "state": {
       "children": [
        "IPY_MODEL_b0db07ee34ab49949027b8b01155c001",
        "IPY_MODEL_98ef364273b746b684151e5f00eab290",
        "IPY_MODEL_6241740ee6f9478c8ec9b658750674c4",
        "IPY_MODEL_45d24500209c4eb78bc851dd6f3672a8",
        "IPY_MODEL_d673f2601a87450abe13e6c54190e659"
       ],
       "layout": "IPY_MODEL_237cac0a821a40d1a7e2e5001133e721"
      }
     },
     "d30c4aeb798640dab1038f7c5c268f25": {
      "model_module": "@jupyter-widgets/controls",
      "model_module_version": "2.0.0",
      "model_name": "HTMLStyleModel",
      "state": {
       "description_width": "",
       "font_size": null,
       "text_color": null
      }
     },
     "d39804285d7e4f8ebe0ca195c37c6261": {
      "model_module": "@jupyter-widgets/controls",
      "model_module_version": "2.0.0",
      "model_name": "HTMLStyleModel",
      "state": {
       "description_width": "",
       "font_size": null,
       "text_color": null
      }
     },
     "d673f2601a87450abe13e6c54190e659": {
      "model_module": "@jupyter-widgets/controls",
      "model_module_version": "2.0.0",
      "model_name": "HTMLModel",
      "state": {
       "layout": "IPY_MODEL_c6a0db9956414aa5aa4efaa50b077b77",
       "style": "IPY_MODEL_c0e66cc1ab944a6aac774b32b304bd70",
       "value": "<h5>Message</h5>"
      }
     },
     "e06cd9424464455780e2e1b31c88d893": {
      "model_module": "@jupyter-widgets/base",
      "model_module_version": "2.0.0",
      "model_name": "LayoutModel",
      "state": {
       "grid_area": "right",
       "padding": "0px 0px 0px 0px",
       "width": "70px"
      }
     },
     "f3003be2ad4946a9b6518c9f37ac651e": {
      "model_module": "@jupyter-widgets/controls",
      "model_module_version": "2.0.0",
      "model_name": "ButtonStyleModel",
      "state": {
       "font_family": null,
       "font_size": null,
       "font_style": null,
       "font_variant": null,
       "font_weight": null,
       "text_color": null,
       "text_decoration": null
      }
     },
     "f517cf43f0554ae8a957c58c8e5fe6b5": {
      "model_module": "@jupyter-widgets/controls",
      "model_module_version": "2.0.0",
      "model_name": "HTMLStyleModel",
      "state": {
       "description_width": "",
       "font_size": null,
       "text_color": null
      }
     },
     "f95cfe93ace94b0dba8f78e749257e61": {
      "model_module": "@jupyter-widgets/controls",
      "model_module_version": "2.0.0",
      "model_name": "GridBoxModel",
      "state": {
       "children": [
        "IPY_MODEL_2204c2c931e6409d91095e997f87fb65"
       ],
       "layout": "IPY_MODEL_1db0f20c2ef94d03aeee4f0dfb62d07d"
      }
     },
     "ffead992e03a4b338f316e03e6176ed4": {
      "model_module": "@jupyter-widgets/base",
      "model_module_version": "2.0.0",
      "model_name": "LayoutModel",
      "state": {
       "width": "95px"
      }
     }
    },
    "version_major": 2,
    "version_minor": 0
   }
  }
 },
 "nbformat": 4,
 "nbformat_minor": 5
}
