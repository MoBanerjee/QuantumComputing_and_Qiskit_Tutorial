{
 "cells": [
  {
   "cell_type": "code",
   "execution_count": 1,
   "id": "c7e33af6-4707-43d5-a692-034f97bfa40c",
   "metadata": {
    "tags": []
   },
   "outputs": [],
   "source": [
    "# Importing standard Qiskit libraries\n",
    "from qiskit import QuantumCircuit, transpile\n",
    "from qiskit.tools.jupyter import *\n",
    "from qiskit.visualization import *\n",
    "from ibm_quantum_widgets import *\n",
    "\n",
    "# qiskit-ibmq-provider has been deprecated.\n",
    "# Please see the Migration Guides in https://ibm.biz/provider_migration_guide for more detail.\n",
    "from qiskit_ibm_runtime import QiskitRuntimeService, Sampler, Estimator, Session, Options\n",
    "\n",
    "# Loading your IBM Quantum account(s)\n",
    "service = QiskitRuntimeService(channel=\"ibm_quantum\")\n",
    "\n",
    "# Invoke a primitive. For more details see https://qiskit.org/documentation/partners/qiskit_ibm_runtime/tutorials.html\n",
    "# result = Sampler(\"ibmq_qasm_simulator\").run(circuits).result()"
   ]
  },
  {
   "cell_type": "code",
   "execution_count": 2,
   "id": "e9169cab-e741-4f7f-925a-47a39661793d",
   "metadata": {
    "tags": []
   },
   "outputs": [],
   "source": [
    "from qiskit import QuantumCircuit\n",
    "from qiskit.quantum_info import Statevector\n",
    "from qiskit import Aer\n",
    "backend = Aer.get_backend('aer_simulator')"
   ]
  },
  {
   "cell_type": "code",
   "execution_count": 5,
   "id": "e5526a8d-4e0f-4ad1-8f49-8e6f5bfc3420",
   "metadata": {
    "tags": []
   },
   "outputs": [
    {
     "data": {
      "image/png": "[encoded data removed]",
      "text/plain": [
       "<Figure size 203.683x284.278 with 1 Axes>"
      ]
     },
     "execution_count": 5,
     "metadata": {},
     "output_type": "execute_result"
    }
   ],
   "source": [
    "MESSAGE = '01'\n",
    "\n",
    "qc_alice = QuantumCircuit(2,2)\n",
    "\n",
    "if MESSAGE[-2]=='1':\n",
    "    qc_alice.z(1)\n",
    "if MESSAGE[-1]=='1':\n",
    "    qc_alice.x(1)\n",
    "qc_alice.draw()"
   ]
  },
  {
   "cell_type": "code",
   "execution_count": 6,
   "id": "d9d46a68-724b-47d1-bf6b-4858fbe3ee7a",
   "metadata": {
    "tags": []
   },
   "outputs": [
    {
     "data": {
      "image/png": "[encoded data removed]",
      "text/plain": [
       "<Figure size 454.517x284.278 with 1 Axes>"
      ]
     },
     "execution_count": 6,
     "metadata": {},
     "output_type": "execute_result"
    }
   ],
   "source": [
    "qc_bob = QuantumCircuit(2,2)\n",
    "# Bob disentangles\n",
    "qc_bob.cx(1,0)\n",
    "qc_bob.h(1)\n",
    "# Then measures\n",
    "qc_bob.measure([0,1],[0,1])\n",
    "\n",
    "qc_bob.draw()"
   ]
  },
  {
   "cell_type": "code",
   "execution_count": 7,
   "id": "9cff979c-0b49-4338-b70b-8744c4bb6602",
   "metadata": {
    "tags": []
   },
   "outputs": [
    {
     "data": {
      "image/png": "[encoded data removed]",
      "text/plain": [
       "<Figure size 287.294x284.278 with 1 Axes>"
      ]
     },
     "execution_count": 7,
     "metadata": {},
     "output_type": "execute_result"
    }
   ],
   "source": [
    "qc_charlie = QuantumCircuit(2,2)\n",
    "\n",
    "qc_charlie.h(1)\n",
    "qc_charlie.cx(1,0)\n",
    "\n",
    "qc_charlie.draw()"
   ]
  },
  {
   "cell_type": "code",
   "execution_count": 8,
   "id": "fe6c8e3f-3c9e-4fb4-9093-2c21f11c0bbd",
   "metadata": {
    "tags": []
   },
   "outputs": [
    {
     "data": {
      "text/plain": [
       "{'01': 1024}"
      ]
     },
     "execution_count": 8,
     "metadata": {},
     "output_type": "execute_result"
    }
   ],
   "source": [
    "complete_qc = qc_charlie.compose(qc_alice.compose(qc_bob))\n",
    "backend.run(complete_qc).result().get_counts()"
   ]
  },
  {
   "cell_type": "code",
   "execution_count": 13,
   "id": "0bdcc1cc-7b3f-45b5-847d-143f9e7c27e2",
   "metadata": {
    "tags": []
   },
   "outputs": [],
   "source": [
    "def infosender(msg):\n",
    "# charlie creates enatngled pair\n",
    "    qc_charlie = QuantumCircuit(2,2)\n",
    "\n",
    "    qc_charlie.h(1)\n",
    "    qc_charlie.cx(1,0)\n",
    "    qc_bob = QuantumCircuit(2,2)\n",
    "# Bob disentangles\n",
    "    qc_bob.cx(1,0)\n",
    "    qc_bob.h(1)\n",
    "# Then measures\n",
    "    qc_bob.measure([0,1],[0,1])\n",
    "# alice encodes real msg string\n",
    "    qc_alice = QuantumCircuit(2,2)\n",
    "\n",
    "    if msg[-2]=='1':\n",
    "        qc_alice.z(1)\n",
    "    if msg[-1]=='1':\n",
    "        qc_alice.x(1)\n",
    "    complete_qc = qc_charlie.compose(qc_alice.compose(qc_bob))\n",
    "    o=backend.run(complete_qc).result().get_counts()\n",
    "    print(o)\n",
    "   "
   ]
  },
  {
   "cell_type": "code",
   "execution_count": 14,
   "id": "afad1015-d51d-4836-946e-ffd886b2f774",
   "metadata": {
    "tags": []
   },
   "outputs": [
    {
     "name": "stdout",
     "output_type": "stream",
     "text": [
      "{'01': 1024}\n",
      "{'00': 1024}\n",
      "{'11': 1024}\n",
      "{'10': 1024}\n"
     ]
    }
   ],
   "source": [
    "infosender(\"01\")\n",
    "infosender(\"00\")\n",
    "infosender(\"11\")\n",
    "infosender(\"10\")"
   ]
  },
  {
   "cell_type": "code",
   "execution_count": null,
   "id": "b5f6b9bf-71ce-4695-9b7b-cb6116faf5c5",
   "metadata": {},
   "outputs": [],
   "source": []
  }
 ],
 "metadata": {
  "kernelspec": {
   "display_name": "Python 3 (ipykernel)",
   "language": "python",
   "name": "python3"
  },
  "language_info": {
   "codemirror_mode": {
    "name": "ipython",
    "version": 3
   },
   "file_extension": ".py",
   "mimetype": "text/x-python",
   "name": "python",
   "nbconvert_exporter": "python",
   "pygments_lexer": "ipython3",
   "version": "3.10.8"
  },
  "widgets": {
   "application/vnd.jupyter.widget-state+json": {
    "state": {
     "00f0de31b12347b7a8db1cd1e4367204": {
      "model_module": "@jupyter-widgets/controls",
      "model_module_version": "2.0.0",
      "model_name": "HTMLStyleModel",
      "state": {
       "description_width": "",
       "font_size": null,
       "text_color": null
      }
     },
     "18f857e1b71e48a0948482b0bc66a449": {
      "model_module": "@jupyter-widgets/controls",
      "model_module_version": "2.0.0",
      "model_name": "HTMLStyleModel",
      "state": {
       "description_width": "",
       "font_size": null,
       "text_color": null
      }
     },
     "1c57cb6ff1ec4c438adec628ae25a624": {
      "model_module": "@jupyter-widgets/base",
      "model_module_version": "2.0.0",
      "model_name": "LayoutModel",
      "state": {}
     },
     "22dee78b82704aceb56fbb1f8db94918": {
      "model_module": "@jupyter-widgets/controls",
      "model_module_version": "2.0.0",
      "model_name": "HTMLModel",
      "state": {
       "layout": "IPY_MODEL_f9aea341d5774b39af93c8b217be8793",
       "style": "IPY_MODEL_6c5caa5060ba4effae898b29f5e5abb8",
       "value": "<h5>Backend</h5>"
      }
     },
     "3573317c05da467a8840ab4411f1d857": {
      "model_module": "@jupyter-widgets/controls",
      "model_module_version": "2.0.0",
      "model_name": "HTMLStyleModel",
      "state": {
       "description_width": "",
       "font_size": null,
       "text_color": null
      }
     },
     "57627138f7684361a3b5ba8a3b54752f": {
      "model_module": "@jupyter-widgets/controls",
      "model_module_version": "2.0.0",
      "model_name": "HTMLStyleModel",
      "state": {
       "description_width": "",
       "font_size": null,
       "text_color": null
      }
     },
     "6c5caa5060ba4effae898b29f5e5abb8": {
      "model_module": "@jupyter-widgets/controls",
      "model_module_version": "2.0.0",
      "model_name": "HTMLStyleModel",
      "state": {
       "description_width": "",
       "font_size": null,
       "text_color": null
      }
     },
     "7a12cc338d0e40cea26b7c60434b6671": {
      "model_module": "@jupyter-widgets/controls",
      "model_module_version": "2.0.0",
      "model_name": "HTMLStyleModel",
      "state": {
       "description_width": "",
       "font_size": null,
       "text_color": null
      }
     },
     "7cabc42c01e94689ade05d0bc2f61882": {
      "model_module": "@jupyter-widgets/controls",
      "model_module_version": "2.0.0",
      "model_name": "HTMLModel",
      "state": {
       "layout": "IPY_MODEL_9d39fa254c11490990e212a2fd135a94",
       "style": "IPY_MODEL_57627138f7684361a3b5ba8a3b54752f",
       "value": "<h5>Queue</h5>"
      }
     },
     "7cddfa440fff441391e65f65468600a0": {
      "model_module": "@jupyter-widgets/base",
      "model_module_version": "2.0.0",
      "model_name": "LayoutModel",
      "state": {
       "grid_area": "right",
       "padding": "0px 0px 0px 0px",
       "width": "70px"
      }
     },
     "7d85c2ee01724359a718d9c8df618723": {
      "model_module": "@jupyter-widgets/controls",
      "model_module_version": "2.0.0",
      "model_name": "HBoxModel",
      "state": {
       "children": [
        "IPY_MODEL_8706fdb27cd24e0f811b78e3ef6f589c",
        "IPY_MODEL_22dee78b82704aceb56fbb1f8db94918",
        "IPY_MODEL_ebc20999eed74e86b028cadc15341141",
        "IPY_MODEL_7cabc42c01e94689ade05d0bc2f61882",
        "IPY_MODEL_dbc386cc061a44f48b3cb7a665a0cbb8"
       ],
       "layout": "IPY_MODEL_f938eae6478a4c73a2100f50ecdaf7f2"
      }
     },
     "8706fdb27cd24e0f811b78e3ef6f589c": {
      "model_module": "@jupyter-widgets/controls",
      "model_module_version": "2.0.0",
      "model_name": "HTMLModel",
      "state": {
       "layout": "IPY_MODEL_ce0a0dc204244bafab4c954a37c3913d",
       "style": "IPY_MODEL_18f857e1b71e48a0948482b0bc66a449",
       "value": "<h5>Job ID</h5>"
      }
     },
     "8e14ec02e6cb4db5b857d84cb36a1ad4": {
      "model_module": "@jupyter-widgets/base",
      "model_module_version": "2.0.0",
      "model_name": "LayoutModel",
      "state": {
       "margin": "0px 0px 10px 0px"
      }
     },
     "9d39fa254c11490990e212a2fd135a94": {
      "model_module": "@jupyter-widgets/base",
      "model_module_version": "2.0.0",
      "model_name": "LayoutModel",
      "state": {
       "width": "70px"
      }
     },
     "a11b839490814753882a68ab90238b2e": {
      "model_module": "@jupyter-widgets/controls",
      "model_module_version": "2.0.0",
      "model_name": "ButtonModel",
      "state": {
       "button_style": "primary",
       "description": "Clear",
       "layout": "IPY_MODEL_7cddfa440fff441391e65f65468600a0",
       "style": "IPY_MODEL_b98d1ba741e2401baf93c4725f882b00",
       "tooltip": null
      }
     },
     "b98d1ba741e2401baf93c4725f882b00": {
      "model_module": "@jupyter-widgets/controls",
      "model_module_version": "2.0.0",
      "model_name": "ButtonStyleModel",
      "state": {
       "font_family": null,
       "font_size": null,
       "font_style": null,
       "font_variant": null,
       "font_weight": null,
       "text_color": null,
       "text_decoration": null
      }
     },
     "ce0a0dc204244bafab4c954a37c3913d": {
      "model_module": "@jupyter-widgets/base",
      "model_module_version": "2.0.0",
      "model_name": "LayoutModel",
      "state": {
       "width": "190px"
      }
     },
     "dbc386cc061a44f48b3cb7a665a0cbb8": {
      "model_module": "@jupyter-widgets/controls",
      "model_module_version": "2.0.0",
      "model_name": "HTMLModel",
      "state": {
       "layout": "IPY_MODEL_1c57cb6ff1ec4c438adec628ae25a624",
       "style": "IPY_MODEL_7a12cc338d0e40cea26b7c60434b6671",
       "value": "<h5>Message</h5>"
      }
     },
     "e802a8e752d44b859fb76e83cc224279": {
      "model_module": "@jupyter-widgets/controls",
      "model_module_version": "2.0.0",
      "model_name": "HTMLModel",
      "state": {
       "layout": "IPY_MODEL_8e14ec02e6cb4db5b857d84cb36a1ad4",
       "style": "IPY_MODEL_3573317c05da467a8840ab4411f1d857",
       "value": "<p style='font-family: IBM Plex Sans, Arial, Helvetica, sans-serif; font-size: 20px; font-weight: medium;'>Circuit Properties</p>"
      }
     },
     "ebc20999eed74e86b028cadc15341141": {
      "model_module": "@jupyter-widgets/controls",
      "model_module_version": "2.0.0",
      "model_name": "HTMLModel",
      "state": {
       "layout": "IPY_MODEL_f7a6abd181d54146b6d2e75a97e140d6",
       "style": "IPY_MODEL_00f0de31b12347b7a8db1cd1e4367204",
       "value": "<h5>Status</h5>"
      }
     },
     "f2cea180de984d4cbbb19f628c71d391": {
      "model_module": "@jupyter-widgets/base",
      "model_module_version": "2.0.0",
      "model_name": "LayoutModel",
      "state": {
       "grid_template_areas": "\n                                       \". . . . right \"\n                                        ",
       "grid_template_columns": "20% 20% 20% 20% 20%",
       "width": "100%"
      }
     },
     "f5ca9c255a9c465388d7d1f57c553cd9": {
      "model_module": "@jupyter-widgets/controls",
      "model_module_version": "2.0.0",
      "model_name": "GridBoxModel",
      "state": {
       "children": [
        "IPY_MODEL_a11b839490814753882a68ab90238b2e"
       ],
       "layout": "IPY_MODEL_f2cea180de984d4cbbb19f628c71d391"
      }
     },
     "f7a6abd181d54146b6d2e75a97e140d6": {
      "model_module": "@jupyter-widgets/base",
      "model_module_version": "2.0.0",
      "model_name": "LayoutModel",
      "state": {
       "width": "95px"
      }
     },
     "f938eae6478a4c73a2100f50ecdaf7f2": {
      "model_module": "@jupyter-widgets/base",
      "model_module_version": "2.0.0",
      "model_name": "LayoutModel",
      "state": {
       "margin": "0px 0px 0px 37px",
       "width": "600px"
      }
     },
     "f9aea341d5774b39af93c8b217be8793": {
      "model_module": "@jupyter-widgets/base",
      "model_module_version": "2.0.0",
      "model_name": "LayoutModel",
      "state": {
       "width": "145px"
      }
     }
    },
    "version_major": 2,
    "version_minor": 0
   }
  }
 },
 "nbformat": 4,
 "nbformat_minor": 5
}
