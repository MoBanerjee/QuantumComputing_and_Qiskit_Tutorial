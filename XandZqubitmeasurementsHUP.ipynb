{
 "cells": [
  {
   "cell_type": "code",
   "execution_count": 1,
   "id": "d04465df-b9dc-473b-8f60-80747cc3865a",
   "metadata": {
    "tags": []
   },
   "outputs": [],
   "source": [
    "# Importing standard Qiskit libraries\n",
    "from qiskit import QuantumCircuit, transpile\n",
    "from qiskit.tools.jupyter import *\n",
    "from qiskit.visualization import *\n",
    "from ibm_quantum_widgets import *\n",
    "\n",
    "# qiskit-ibmq-provider has been deprecated.\n",
    "# Please see the Migration Guides in https://ibm.biz/provider_migration_guide for more detail.\n",
    "from qiskit_ibm_runtime import QiskitRuntimeService, Sampler, Estimator, Session, Options\n",
    "\n",
    "# Loading your IBM Quantum account(s)\n",
    "service = QiskitRuntimeService(channel=\"ibm_quantum\")\n",
    "\n",
    "# Invoke a primitive. For more details see https://qiskit.org/documentation/partners/qiskit_ibm_runtime/tutorials.html\n",
    "# result = Sampler(\"ibmq_qasm_simulator\").run(circuits).result()"
   ]
  },
  {
   "cell_type": "markdown",
   "id": "5611e241-0b89-4aba-8c5b-9d1e1a794d4f",
   "metadata": {},
   "source": [
    "## X measuring circuit"
   ]
  },
  {
   "cell_type": "code",
   "execution_count": 2,
   "id": "f4a59d73-246a-4daa-8a05-1625b7fbcae2",
   "metadata": {
    "tags": []
   },
   "outputs": [
    {
     "data": {
      "image/png": "[encoded data removed]",
      "text/plain": [
       "<Figure size 269.064x200.667 with 1 Axes>"
      ]
     },
     "execution_count": 2,
     "metadata": {},
     "output_type": "execute_result"
    }
   ],
   "source": [
    "meas_x = QuantumCircuit(1,1)\n",
    "meas_x.h(0)\n",
    "meas_x.measure(0,0)\n",
    "\n",
    "meas_x.draw()"
   ]
  },
  {
   "cell_type": "markdown",
   "id": "95a48c1d-2b27-4a96-9619-a3a3fdcdfa1c",
   "metadata": {},
   "source": [
    "## Z measuring circuit"
   ]
  },
  {
   "cell_type": "code",
   "execution_count": 3,
   "id": "6745d7e7-c8a7-4e43-be79-6856b6ece960",
   "metadata": {
    "tags": []
   },
   "outputs": [
    {
     "data": {
      "image/png": "[encoded data removed]",
      "text/plain": [
       "<Figure size 185.453x200.667 with 1 Axes>"
      ]
     },
     "execution_count": 3,
     "metadata": {},
     "output_type": "execute_result"
    }
   ],
   "source": [
    "meas_z = QuantumCircuit(1,1)\n",
    "meas_z.measure(0,0)\n",
    "\n",
    "meas_z.draw()"
   ]
  },
  {
   "cell_type": "markdown",
   "id": "d90651bd-e07c-4ece-ab9e-d9f91094575a",
   "metadata": {
    "tags": []
   },
   "source": [
    "## Carrying out Z measurement of 0 state qubit"
   ]
  },
  {
   "cell_type": "code",
   "execution_count": 5,
   "id": "f5634b46-ebba-43f3-8ae3-4334085283a7",
   "metadata": {
    "tags": []
   },
   "outputs": [
    {
     "data": {
      "image/png": "[encoded data removed]",
      "text/plain": [
       "<Figure size 143.647x200.667 with 1 Axes>"
      ]
     },
     "execution_count": 5,
     "metadata": {},
     "output_type": "execute_result"
    }
   ],
   "source": [
    "qc = QuantumCircuit(1,1)\n",
    "\n",
    "qc.draw()"
   ]
  },
  {
   "cell_type": "code",
   "execution_count": 7,
   "id": "86678282-411b-4c2b-9cae-fef2dc1231eb",
   "metadata": {
    "tags": []
   },
   "outputs": [
    {
     "name": "stdout",
     "output_type": "stream",
     "text": [
      "Results from z measurement: {'0': 1024}\n"
     ]
    }
   ],
   "source": [
    "from qiskit import Aer\n",
    "backend = Aer.get_backend('aer_simulator')\n",
    "z_meas_counts = backend.run(qc.compose(meas_z)).result().get_counts()\n",
    "print('Results from z measurement:', z_meas_counts)"
   ]
  },
  {
   "cell_type": "markdown",
   "id": "aebee274-2d1f-4784-bf07-09ded7872079",
   "metadata": {},
   "source": [
    "## Carrying out X measurement of 0 state qubit"
   ]
  },
  {
   "cell_type": "code",
   "execution_count": 8,
   "id": "dbe713b2-e904-4fb7-bbc7-065e2887d402",
   "metadata": {
    "tags": []
   },
   "outputs": [
    {
     "name": "stdout",
     "output_type": "stream",
     "text": [
      "Results from x measurement: {'1': 476, '0': 548}\n"
     ]
    }
   ],
   "source": [
    "x_meas_counts = backend.run(qc.compose(meas_x)).result().get_counts()\n",
    "print('Results from x measurement:', x_meas_counts)"
   ]
  },
  {
   "cell_type": "markdown",
   "id": "7dc77d5c-5a04-49b7-8b7d-f5cc9ef32519",
   "metadata": {},
   "source": [
    "## Carrying out measurements of 1 state qubit"
   ]
  },
  {
   "cell_type": "code",
   "execution_count": 9,
   "id": "e5629971-02b8-4b73-b38c-8193f9c6cf11",
   "metadata": {
    "tags": []
   },
   "outputs": [
    {
     "data": {
      "image/png": "[encoded data removed]",
      "text/plain": [
       "<Figure size 185.453x200.667 with 1 Axes>"
      ]
     },
     "execution_count": 9,
     "metadata": {},
     "output_type": "execute_result"
    }
   ],
   "source": [
    "qc = QuantumCircuit(1,1)\n",
    "qc.x(0)\n",
    "\n",
    "qc.draw()\n"
   ]
  },
  {
   "cell_type": "code",
   "execution_count": 10,
   "id": "b6381546-bdb7-4b37-8d61-4f3f10f80b14",
   "metadata": {
    "tags": []
   },
   "outputs": [
    {
     "name": "stdout",
     "output_type": "stream",
     "text": [
      "Results from z measurement: {'1': 1024}\n",
      "Results from x measurement: {'1': 536, '0': 488}\n"
     ]
    }
   ],
   "source": [
    "for basis,circ in [('z', meas_z), ('x', meas_x)]:\n",
    "    print('Results from ' + basis + ' measurement:',\n",
    "      backend.run(qc.compose(circ)).result().get_counts())"
   ]
  },
  {
   "cell_type": "markdown",
   "id": "da39f7f7-1699-4a41-a024-6fcdec110873",
   "metadata": {},
   "source": [
    "## Carrying out measurements of |+> state qubit"
   ]
  },
  {
   "cell_type": "code",
   "execution_count": 11,
   "id": "cbaf77f4-e622-48de-b6b0-65cd93acc597",
   "metadata": {
    "tags": []
   },
   "outputs": [
    {
     "data": {
      "image/png": "[encoded data removed]",
      "text/plain": [
       "<Figure size 185.453x200.667 with 1 Axes>"
      ]
     },
     "execution_count": 11,
     "metadata": {},
     "output_type": "execute_result"
    }
   ],
   "source": [
    "qc = QuantumCircuit(1,1)\n",
    "qc.h(0)\n",
    "\n",
    "qc.draw()"
   ]
  },
  {
   "cell_type": "code",
   "execution_count": 12,
   "id": "4fcef81f-a76d-4246-ba18-a1508c03397c",
   "metadata": {
    "tags": []
   },
   "outputs": [
    {
     "name": "stdout",
     "output_type": "stream",
     "text": [
      "Results from z measurement: {'1': 501, '0': 523}\n",
      "Results from x measurement: {'0': 1024}\n"
     ]
    }
   ],
   "source": [
    "for basis,circ in [('z', meas_z), ('x', meas_x)]:\n",
    "    print('Results from ' + basis + ' measurement:',\n",
    "      backend.run(qc.compose(circ)).result().get_counts())"
   ]
  },
  {
   "cell_type": "markdown",
   "id": "a0190b66-d34a-45ed-903f-0ee4a27e6407",
   "metadata": {},
   "source": [
    "## For the angle -pi/4, we see both results are partly random, but not completely."
   ]
  },
  {
   "cell_type": "code",
   "execution_count": 13,
   "id": "3786fe8e-0599-496a-bde9-9df366a8fb07",
   "metadata": {
    "tags": []
   },
   "outputs": [
    {
     "data": {
      "image/png": "[encoded data removed]",
      "text/plain": [
       "<Figure size 185.453x200.667 with 1 Axes>"
      ]
     },
     "execution_count": 13,
     "metadata": {},
     "output_type": "execute_result"
    }
   ],
   "source": [
    "from math import pi\n",
    "\n",
    "qc = QuantumCircuit(1, 1)\n",
    "qc.ry(-pi/4, 0)\n",
    "\n",
    "qc.draw()"
   ]
  },
  {
   "cell_type": "code",
   "execution_count": 14,
   "id": "0d9d68ab-c99f-42d3-8c74-76dead8f7b7d",
   "metadata": {
    "tags": []
   },
   "outputs": [
    {
     "name": "stdout",
     "output_type": "stream",
     "text": [
      "Results from z measurement: {'1': 140, '0': 884}\n",
      "Results from x measurement: {'0': 164, '1': 860}\n"
     ]
    }
   ],
   "source": [
    "for basis,circ in [('z', meas_z), ('x', meas_x)]:\n",
    "    print('Results from ' + basis + ' measurement:',\n",
    "      backend.run(qc.compose(circ)).result().get_counts())"
   ]
  },
  {
   "cell_type": "markdown",
   "id": "f78b1467-fbff-4640-8f05-005b4f56b94b",
   "metadata": {},
   "source": [
    "## Charlie, Alice and Bob experiment (quantum)"
   ]
  },
  {
   "cell_type": "markdown",
   "id": "0e509259-fc31-479c-90b8-aa0ffc2f6e69",
   "metadata": {
    "tags": []
   },
   "source": [
    "### Charlie makes the below entangled state"
   ]
  },
  {
   "cell_type": "code",
   "execution_count": 15,
   "id": "f1f14c58-0705-4001-ace9-701a6e88f6e7",
   "metadata": {
    "tags": []
   },
   "outputs": [
    {
     "data": {
      "image/png": "[encoded data removed]",
      "text/plain": [
       "<Figure size 538.128x284.278 with 1 Axes>"
      ]
     },
     "execution_count": 15,
     "metadata": {},
     "output_type": "execute_result"
    }
   ],
   "source": [
    "qc_charlie = QuantumCircuit(2,2)\n",
    "qc_charlie.ry(1.911,1)\n",
    "qc_charlie.cx(1,0)\n",
    "qc_charlie.ry(0.785,0)\n",
    "qc_charlie.cx(1,0)\n",
    "qc_charlie.ry(2.356,0)\n",
    "\n",
    "qc_charlie.draw()"
   ]
  },
  {
   "cell_type": "markdown",
   "id": "b21b5381-6232-426c-876d-1790941370c1",
   "metadata": {
    "tags": []
   },
   "source": [
    "### Both Alice and Bob make Z measurements"
   ]
  },
  {
   "cell_type": "code",
   "execution_count": 16,
   "id": "b4fb8688-69fc-430d-ab20-8e29b6a58370",
   "metadata": {
    "tags": []
   },
   "outputs": [
    {
     "name": "stdout",
     "output_type": "stream",
     "text": [
      "Results for z measurements:\n"
     ]
    },
    {
     "data": {
      "image/png": "[encoded data removed]",
      "text/plain": [
       "<Figure size 700x500 with 1 Axes>"
      ]
     },
     "execution_count": 16,
     "metadata": {},
     "output_type": "execute_result"
    }
   ],
   "source": [
    "meas_zz = QuantumCircuit(2,2)\n",
    "meas_zz.measure([0,1],[0,1])\n",
    "from qiskit.visualization import plot_histogram\n",
    "\n",
    "print('Results for z measurements:')\n",
    "counts = backend.run(qc_charlie.compose(meas_zz)).result().get_counts()\n",
    "plot_histogram(counts)"
   ]
  },
  {
   "cell_type": "markdown",
   "id": "1633e911-790d-44c8-a2d5-32cb20b544bb",
   "metadata": {},
   "source": [
    "### Bob uses X and Alice uses Z"
   ]
  },
  {
   "cell_type": "code",
   "execution_count": 18,
   "id": "8d2aed11-0d2c-4297-8072-892464530ada",
   "metadata": {
    "tags": []
   },
   "outputs": [
    {
     "name": "stdout",
     "output_type": "stream",
     "text": [
      "Results for a z and an x measurement:\n"
     ]
    },
    {
     "data": {
      "image/png": "[encoded data removed]",
      "text/plain": [
       "<Figure size 700x500 with 1 Axes>"
      ]
     },
     "execution_count": 18,
     "metadata": {},
     "output_type": "execute_result"
    }
   ],
   "source": [
    "meas_zx = QuantumCircuit(2,2)\n",
    "meas_zx.h(0)\n",
    "meas_zx.measure([0,1],[0,1])\n",
    "\n",
    "print('Results for a z and an x measurement:')\n",
    "counts = backend.run(qc_charlie.compose(meas_zx)).result().get_counts()\n",
    "plot_histogram(counts)"
   ]
  },
  {
   "cell_type": "markdown",
   "id": "ccebed74-cbe3-4746-80c2-467f4a7af589",
   "metadata": {},
   "source": [
    "### Bob uses Z and Alice uses X"
   ]
  },
  {
   "cell_type": "code",
   "execution_count": 19,
   "id": "cb72041b-df6f-4257-9fc3-ea2cec04a509",
   "metadata": {
    "tags": []
   },
   "outputs": [
    {
     "name": "stdout",
     "output_type": "stream",
     "text": [
      "Results for an x and a z measurement:\n"
     ]
    },
    {
     "data": {
      "image/png": "[encoded data removed]",
      "text/plain": [
       "<Figure size 700x500 with 1 Axes>"
      ]
     },
     "execution_count": 19,
     "metadata": {},
     "output_type": "execute_result"
    }
   ],
   "source": [
    "meas_xz = QuantumCircuit(2,2)\n",
    "meas_xz.h(1)\n",
    "meas_xz.measure([0,1],[0,1])\n",
    "\n",
    "print('Results for an x and a z measurement:')\n",
    "counts = backend.run(qc_charlie.compose(meas_xz)).result().get_counts()\n",
    "plot_histogram(counts)"
   ]
  },
  {
   "cell_type": "markdown",
   "id": "26a83191-4aed-4cf5-abec-0cab10dc6b37",
   "metadata": {},
   "source": [
    "### Both use X"
   ]
  },
  {
   "cell_type": "code",
   "execution_count": 20,
   "id": "d67c63e4-d506-4766-8fbe-91b7e4ef052b",
   "metadata": {
    "tags": []
   },
   "outputs": [
    {
     "name": "stdout",
     "output_type": "stream",
     "text": [
      "Results for an x and an x measurement:\n"
     ]
    },
    {
     "data": {
      "image/png": "[encoded data removed]",
      "text/plain": [
       "<Figure size 700x500 with 1 Axes>"
      ]
     },
     "execution_count": 20,
     "metadata": {},
     "output_type": "execute_result"
    }
   ],
   "source": [
    "meas_xx = QuantumCircuit(2,2)\n",
    "meas_xx.h([0,1])\n",
    "meas_xx.measure([0,1],[0,1])\n",
    "\n",
    "print('Results for an x and an x measurement:')\n",
    "counts = backend.run(qc_charlie.compose(meas_xx)).result().get_counts()\n",
    "plot_histogram(counts)"
   ]
  },
  {
   "cell_type": "markdown",
   "id": "02f9ad0a-b6ca-441b-993a-a034298093fa",
   "metadata": {},
   "source": [
    "## This contradicts conclusion drawn from inferences made from the other 3 experiments. This is in contrast to the analogous classical experiment with objects of various shapes and colors. This proves that quantum correlations between qubits in entangled states are unique and distinct (more random) than classical correlations."
   ]
  },
  {
   "cell_type": "code",
   "execution_count": null,
   "id": "4e702ec1-622d-46a2-bdb4-6c932e769326",
   "metadata": {},
   "outputs": [],
   "source": []
  }
 ],
 "metadata": {
  "kernelspec": {
   "display_name": "Python 3 (ipykernel)",
   "language": "python",
   "name": "python3"
  },
  "language_info": {
   "codemirror_mode": {
    "name": "ipython",
    "version": 3
   },
   "file_extension": ".py",
   "mimetype": "text/x-python",
   "name": "python",
   "nbconvert_exporter": "python",
   "pygments_lexer": "ipython3",
   "version": "3.10.8"
  },
  "widgets": {
   "application/vnd.jupyter.widget-state+json": {
    "state": {
     "0598ac2010a14e068996abe301bc7489": {
      "model_module": "@jupyter-widgets/controls",
      "model_module_version": "2.0.0",
      "model_name": "HTMLModel",
      "state": {
       "layout": "IPY_MODEL_a2d383a9f29a4061b1fa547841f2b808",
       "style": "IPY_MODEL_422acba4551b47f79d9c5119e0894fc0",
       "value": "<h5>Job ID</h5>"
      }
     },
     "1a74495a5494498d8f27f89ff6f7c742": {
      "model_module": "@jupyter-widgets/controls",
      "model_module_version": "2.0.0",
      "model_name": "HTMLModel",
      "state": {
       "layout": "IPY_MODEL_50573a4c191141ccaaf5a773f6956b1a",
       "style": "IPY_MODEL_a77ec4900e3c4994900dbf44856dfce4",
       "value": "<h5>Status</h5>"
      }
     },
     "3becef036227491abdb6be143772abae": {
      "model_module": "@jupyter-widgets/controls",
      "model_module_version": "2.0.0",
      "model_name": "HTMLModel",
      "state": {
       "layout": "IPY_MODEL_898c3906fb5b4919a7d8e2d6e4874bbd",
       "style": "IPY_MODEL_fefb954a3ec64f6f80d517a175362881",
       "value": "<h5>Queue</h5>"
      }
     },
     "422acba4551b47f79d9c5119e0894fc0": {
      "model_module": "@jupyter-widgets/controls",
      "model_module_version": "2.0.0",
      "model_name": "HTMLStyleModel",
      "state": {
       "description_width": "",
       "font_size": null,
       "text_color": null
      }
     },
     "4cc62c65b292400893278e9fcad94a5b": {
      "model_module": "@jupyter-widgets/base",
      "model_module_version": "2.0.0",
      "model_name": "LayoutModel",
      "state": {
       "margin": "0px 0px 10px 0px"
      }
     },
     "50573a4c191141ccaaf5a773f6956b1a": {
      "model_module": "@jupyter-widgets/base",
      "model_module_version": "2.0.0",
      "model_name": "LayoutModel",
      "state": {
       "width": "95px"
      }
     },
     "67918f233ccc414a8cad2fe870e07aab": {
      "model_module": "@jupyter-widgets/controls",
      "model_module_version": "2.0.0",
      "model_name": "HTMLModel",
      "state": {
       "layout": "IPY_MODEL_c41fd93391d1482793d31e2e92de3b9f",
       "style": "IPY_MODEL_aab840acf1f84f468fae047a8c6f6d86",
       "value": "<h5>Backend</h5>"
      }
     },
     "6b13ee7b4dad49dea8f43621b34f27f9": {
      "model_module": "@jupyter-widgets/base",
      "model_module_version": "2.0.0",
      "model_name": "LayoutModel",
      "state": {
       "grid_template_areas": "\n                                       \". . . . right \"\n                                        ",
       "grid_template_columns": "20% 20% 20% 20% 20%",
       "width": "100%"
      }
     },
     "70d59fa6785542c1966cb688a2b4e6b5": {
      "model_module": "@jupyter-widgets/controls",
      "model_module_version": "2.0.0",
      "model_name": "ButtonModel",
      "state": {
       "button_style": "primary",
       "description": "Clear",
       "layout": "IPY_MODEL_871e95d7acc54c04a1ad7ffac514bd8d",
       "style": "IPY_MODEL_f7616f775ede4391aca527a00c12ed7b",
       "tooltip": null
      }
     },
     "762121b55b634f468f40a974a33bcec3": {
      "model_module": "@jupyter-widgets/base",
      "model_module_version": "2.0.0",
      "model_name": "LayoutModel",
      "state": {}
     },
     "7855fac52a434f788ab7f9d2cf4117e7": {
      "model_module": "@jupyter-widgets/controls",
      "model_module_version": "2.0.0",
      "model_name": "HTMLModel",
      "state": {
       "layout": "IPY_MODEL_762121b55b634f468f40a974a33bcec3",
       "style": "IPY_MODEL_9cf2c7ec8f7c4df9bb66d7fb4c5f6184",
       "value": "<h5>Message</h5>"
      }
     },
     "81272ae6e728412cb920ad3ef50eaaa9": {
      "model_module": "@jupyter-widgets/controls",
      "model_module_version": "2.0.0",
      "model_name": "GridBoxModel",
      "state": {
       "children": [
        "IPY_MODEL_70d59fa6785542c1966cb688a2b4e6b5"
       ],
       "layout": "IPY_MODEL_6b13ee7b4dad49dea8f43621b34f27f9"
      }
     },
     "822fd1eee7e34c60bd9cc5cd0853c38e": {
      "model_module": "@jupyter-widgets/base",
      "model_module_version": "2.0.0",
      "model_name": "LayoutModel",
      "state": {
       "margin": "0px 0px 0px 37px",
       "width": "600px"
      }
     },
     "871e95d7acc54c04a1ad7ffac514bd8d": {
      "model_module": "@jupyter-widgets/base",
      "model_module_version": "2.0.0",
      "model_name": "LayoutModel",
      "state": {
       "grid_area": "right",
       "padding": "0px 0px 0px 0px",
       "width": "70px"
      }
     },
     "898c3906fb5b4919a7d8e2d6e4874bbd": {
      "model_module": "@jupyter-widgets/base",
      "model_module_version": "2.0.0",
      "model_name": "LayoutModel",
      "state": {
       "width": "70px"
      }
     },
     "8a4e66f378ad45488a40d9284f7c8d4b": {
      "model_module": "@jupyter-widgets/controls",
      "model_module_version": "2.0.0",
      "model_name": "HTMLModel",
      "state": {
       "layout": "IPY_MODEL_4cc62c65b292400893278e9fcad94a5b",
       "style": "IPY_MODEL_ce949b8d6fa9445f96a2e7fc963f3180",
       "value": "<p style='font-family: IBM Plex Sans, Arial, Helvetica, sans-serif; font-size: 20px; font-weight: medium;'>Circuit Properties</p>"
      }
     },
     "9cf2c7ec8f7c4df9bb66d7fb4c5f6184": {
      "model_module": "@jupyter-widgets/controls",
      "model_module_version": "2.0.0",
      "model_name": "HTMLStyleModel",
      "state": {
       "description_width": "",
       "font_size": null,
       "text_color": null
      }
     },
     "a2d383a9f29a4061b1fa547841f2b808": {
      "model_module": "@jupyter-widgets/base",
      "model_module_version": "2.0.0",
      "model_name": "LayoutModel",
      "state": {
       "width": "190px"
      }
     },
     "a77ec4900e3c4994900dbf44856dfce4": {
      "model_module": "@jupyter-widgets/controls",
      "model_module_version": "2.0.0",
      "model_name": "HTMLStyleModel",
      "state": {
       "description_width": "",
       "font_size": null,
       "text_color": null
      }
     },
     "aab840acf1f84f468fae047a8c6f6d86": {
      "model_module": "@jupyter-widgets/controls",
      "model_module_version": "2.0.0",
      "model_name": "HTMLStyleModel",
      "state": {
       "description_width": "",
       "font_size": null,
       "text_color": null
      }
     },
     "c41fd93391d1482793d31e2e92de3b9f": {
      "model_module": "@jupyter-widgets/base",
      "model_module_version": "2.0.0",
      "model_name": "LayoutModel",
      "state": {
       "width": "145px"
      }
     },
     "ce949b8d6fa9445f96a2e7fc963f3180": {
      "model_module": "@jupyter-widgets/controls",
      "model_module_version": "2.0.0",
      "model_name": "HTMLStyleModel",
      "state": {
       "description_width": "",
       "font_size": null,
       "text_color": null
      }
     },
     "f7616f775ede4391aca527a00c12ed7b": {
      "model_module": "@jupyter-widgets/controls",
      "model_module_version": "2.0.0",
      "model_name": "ButtonStyleModel",
      "state": {
       "font_family": null,
       "font_size": null,
       "font_style": null,
       "font_variant": null,
       "font_weight": null,
       "text_color": null,
       "text_decoration": null
      }
     },
     "f85ceca9028c49ad9ab68d829d505239": {
      "model_module": "@jupyter-widgets/controls",
      "model_module_version": "2.0.0",
      "model_name": "HBoxModel",
      "state": {
       "children": [
        "IPY_MODEL_0598ac2010a14e068996abe301bc7489",
        "IPY_MODEL_67918f233ccc414a8cad2fe870e07aab",
        "IPY_MODEL_1a74495a5494498d8f27f89ff6f7c742",
        "IPY_MODEL_3becef036227491abdb6be143772abae",
        "IPY_MODEL_7855fac52a434f788ab7f9d2cf4117e7"
       ],
       "layout": "IPY_MODEL_822fd1eee7e34c60bd9cc5cd0853c38e"
      }
     },
     "fefb954a3ec64f6f80d517a175362881": {
      "model_module": "@jupyter-widgets/controls",
      "model_module_version": "2.0.0",
      "model_name": "HTMLStyleModel",
      "state": {
       "description_width": "",
       "font_size": null,
       "text_color": null
      }
     }
    },
    "version_major": 2,
    "version_minor": 0
   }
  }
 },
 "nbformat": 4,
 "nbformat_minor": 5
}
